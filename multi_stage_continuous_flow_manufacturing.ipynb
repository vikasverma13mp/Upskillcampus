{
  "cells": [
    {
      "cell_type": "code",
      "source": [
        "pip install opendatasets"
      ],
      "metadata": {
        "colab": {
          "base_uri": "https://localhost:8080/"
        },
        "id": "r3OYjyyjcn0F",
        "outputId": "12e6a675-cefc-4bdf-d106-bfca94556b4b"
      },
      "id": "r3OYjyyjcn0F",
      "execution_count": null,
      "outputs": [
        {
          "output_type": "stream",
          "name": "stdout",
          "text": [
            "Collecting opendatasets\n",
            "  Downloading opendatasets-0.1.22-py3-none-any.whl (15 kB)\n",
            "Requirement already satisfied: tqdm in /usr/local/lib/python3.10/dist-packages (from opendatasets) (4.65.0)\n",
            "Requirement already satisfied: kaggle in /usr/local/lib/python3.10/dist-packages (from opendatasets) (1.5.16)\n",
            "Requirement already satisfied: click in /usr/local/lib/python3.10/dist-packages (from opendatasets) (8.1.6)\n",
            "Requirement already satisfied: six>=1.10 in /usr/local/lib/python3.10/dist-packages (from kaggle->opendatasets) (1.16.0)\n",
            "Requirement already satisfied: certifi in /usr/local/lib/python3.10/dist-packages (from kaggle->opendatasets) (2023.7.22)\n",
            "Requirement already satisfied: python-dateutil in /usr/local/lib/python3.10/dist-packages (from kaggle->opendatasets) (2.8.2)\n",
            "Requirement already satisfied: requests in /usr/local/lib/python3.10/dist-packages (from kaggle->opendatasets) (2.27.1)\n",
            "Requirement already satisfied: python-slugify in /usr/local/lib/python3.10/dist-packages (from kaggle->opendatasets) (8.0.1)\n",
            "Requirement already satisfied: urllib3 in /usr/local/lib/python3.10/dist-packages (from kaggle->opendatasets) (1.26.16)\n",
            "Requirement already satisfied: bleach in /usr/local/lib/python3.10/dist-packages (from kaggle->opendatasets) (6.0.0)\n",
            "Requirement already satisfied: webencodings in /usr/local/lib/python3.10/dist-packages (from bleach->kaggle->opendatasets) (0.5.1)\n",
            "Requirement already satisfied: text-unidecode>=1.3 in /usr/local/lib/python3.10/dist-packages (from python-slugify->kaggle->opendatasets) (1.3)\n",
            "Requirement already satisfied: charset-normalizer~=2.0.0 in /usr/local/lib/python3.10/dist-packages (from requests->kaggle->opendatasets) (2.0.12)\n",
            "Requirement already satisfied: idna<4,>=2.5 in /usr/local/lib/python3.10/dist-packages (from requests->kaggle->opendatasets) (3.4)\n",
            "Installing collected packages: opendatasets\n",
            "Successfully installed opendatasets-0.1.22\n"
          ]
        }
      ]
    },
    {
      "cell_type": "code",
      "source": [
        "import opendatasets as od\n",
        "od.download('https://www.kaggle.com/datasets/supergus/multistage-continuousflow-manufacturing-process')"
      ],
      "metadata": {
        "colab": {
          "base_uri": "https://localhost:8080/"
        },
        "id": "ja2NfjCJc05c",
        "outputId": "e083a239-76a5-4d99-eb2c-1a22b2000dba"
      },
      "id": "ja2NfjCJc05c",
      "execution_count": null,
      "outputs": [
        {
          "output_type": "stream",
          "name": "stdout",
          "text": [
            "Please provide your Kaggle credentials to download this dataset. Learn more: http://bit.ly/kaggle-creds\n",
            "Your Kaggle username: vikasverma13mp\n",
            "Your Kaggle Key: ··········\n",
            "Downloading multistage-continuousflow-manufacturing-process.zip to ./multistage-continuousflow-manufacturing-process\n"
          ]
        },
        {
          "output_type": "stream",
          "name": "stderr",
          "text": [
            "100%|██████████| 1.23M/1.23M [00:00<00:00, 72.8MB/s]"
          ]
        },
        {
          "output_type": "stream",
          "name": "stdout",
          "text": [
            "\n"
          ]
        },
        {
          "output_type": "stream",
          "name": "stderr",
          "text": [
            "\n"
          ]
        }
      ]
    },
    {
      "cell_type": "code",
      "execution_count": null,
      "id": "advised-spank",
      "metadata": {
        "_cell_guid": "b1076dfc-b9ad-4769-8c92-a6c4dae69d19",
        "_uuid": "8f2839f25d086af736a60e9eeb907d3b93b6e0e5",
        "execution": {
          "iopub.execute_input": "2021-05-19T15:48:33.149027Z",
          "iopub.status.busy": "2021-05-19T15:48:33.148377Z",
          "iopub.status.idle": "2021-05-19T15:48:33.173355Z",
          "shell.execute_reply": "2021-05-19T15:48:33.173962Z"
        },
        "papermill": {
          "duration": 0.045073,
          "end_time": "2021-05-19T15:48:33.174345",
          "exception": false,
          "start_time": "2021-05-19T15:48:33.129272",
          "status": "completed"
        },
        "tags": [],
        "colab": {
          "base_uri": "https://localhost:8080/"
        },
        "id": "advised-spank",
        "outputId": "0aae319e-8753-438c-fb5f-666a169f1b17"
      },
      "outputs": [
        {
          "output_type": "stream",
          "name": "stdout",
          "text": [
            "/content/multistage-continuousflow-manufacturing-process/notes_on_dataset.txt\n",
            "/content/multistage-continuousflow-manufacturing-process/continuous_factory_process.csv\n"
          ]
        }
      ],
      "source": [
        "import numpy as np\n",
        "import pandas as pd\n",
        "import os\n",
        "for dirname, _, filenames in os.walk('/content/multistage-continuousflow-manufacturing-process'):\n",
        "    for filename in filenames:\n",
        "        print(os.path.join(dirname, filename))"
      ]
    },
    {
      "cell_type": "code",
      "execution_count": null,
      "id": "defined-scratch",
      "metadata": {
        "execution": {
          "iopub.execute_input": "2021-05-19T15:48:33.197387Z",
          "iopub.status.busy": "2021-05-19T15:48:33.196727Z",
          "iopub.status.idle": "2021-05-19T15:48:35.277460Z",
          "shell.execute_reply": "2021-05-19T15:48:35.276852Z"
        },
        "papermill": {
          "duration": 2.092701,
          "end_time": "2021-05-19T15:48:35.277622",
          "exception": false,
          "start_time": "2021-05-19T15:48:33.184921",
          "status": "completed"
        },
        "tags": [],
        "id": "defined-scratch"
      },
      "outputs": [],
      "source": [
        "from datetime import datetime\n",
        "import csv\n",
        "import statsmodels.api as sm\n",
        "from sklearn.model_selection import train_test_split\n",
        "from sklearn import tree\n",
        "from sklearn.preprocessing import StandardScaler\n",
        "from sklearn.svm import SVR\n",
        "from sklearn.neighbors import KNeighborsRegressor\n",
        "from sklearn.pipeline import make_pipeline\n",
        "import time\n",
        "import warnings\n",
        "\n"
      ]
    },
    {
      "cell_type": "code",
      "execution_count": null,
      "id": "occupational-honor",
      "metadata": {
        "execution": {
          "iopub.execute_input": "2021-05-19T15:48:35.298952Z",
          "iopub.status.busy": "2021-05-19T15:48:35.298316Z",
          "iopub.status.idle": "2021-05-19T15:48:35.679648Z",
          "shell.execute_reply": "2021-05-19T15:48:35.678889Z"
        },
        "papermill": {
          "duration": 0.394403,
          "end_time": "2021-05-19T15:48:35.679823",
          "exception": false,
          "start_time": "2021-05-19T15:48:35.285420",
          "status": "completed"
        },
        "tags": [],
        "id": "occupational-honor"
      },
      "outputs": [],
      "source": [
        "X=pd.read_csv(\"X.csv\")\n",
        "Y=pd.read_csv(\"Y.csv\")\n",
        "X2=pd.read_csv(\"X2.csv\")\n",
        "Y2=pd.read_csv(\"Y2.csv\")"
      ]
    },
    {
      "cell_type": "code",
      "execution_count": null,
      "id": "known-momentum",
      "metadata": {
        "execution": {
          "iopub.execute_input": "2021-05-19T15:48:35.707745Z",
          "iopub.status.busy": "2021-05-19T15:48:35.706713Z",
          "iopub.status.idle": "2021-05-19T15:48:35.731416Z",
          "shell.execute_reply": "2021-05-19T15:48:35.730517Z"
        },
        "papermill": {
          "duration": 0.043854,
          "end_time": "2021-05-19T15:48:35.731625",
          "exception": false,
          "start_time": "2021-05-19T15:48:35.687771",
          "status": "completed"
        },
        "tags": [],
        "id": "known-momentum",
        "outputId": "31c2ab50-6eaa-4afd-a92f-63004b1d6a21"
      },
      "outputs": [
        {
          "name": "stdout",
          "output_type": "stream",
          "text": [
            "    Columns No   1 Name   Stage1.Output.Measurement1.U.Actual    Value = 0.42\n",
            "    Columns No   5 Name   Stage1.Output.Measurement5.U.Actual    Value = 0.95\n",
            "    Columns No   6 Name   Stage1.Output.Measurement6.U.Actual    Value = 0.33\n",
            "    Columns No   7 Name   Stage1.Output.Measurement7.U.Actual    Value = 0.62\n",
            "    Columns No   11 Name   Stage1.Output.Measurement11.U.Actual    Value = 0.74\n",
            "    Columns No   12 Name   Stage1.Output.Measurement12.U.Actual    Value = 0.23\n",
            "    Columns No   14 Name   Stage1.Output.Measurement14.U.Actual    Value = 0.36\n",
            "    Columns No   4 Name   Stage2.Output.Measurement4.U.Actual    Value = 0.91\n"
          ]
        }
      ],
      "source": [
        "for i in range (len(Y.columns[:])):\n",
        "    YZ=Y.values[:,i]\n",
        "    YZN=(((np.count_nonzero(YZ==0))/14088))\n",
        "    if (YZN>0.2):\n",
        "        YDROP=(Y.columns[i])\n",
        "        print (\"    Columns No  \", i, \"Name  \", YDROP, \"   Value =\", \"{:,.2f}\".format(YZN))\n",
        "\n",
        "#----- droping the columns with more than 30% zeros\n",
        "DROP_Y=[1,5,6,7,11,14]\n",
        "DROP_Y_N=list(Y.columns[DROP_Y])\n",
        "Y=Y.drop(columns=DROP_Y_N, axis=1)\n",
        "\n",
        "\n",
        "for i in range (len(Y2.columns[:])):\n",
        "    Y2Z=Y2.values[:,i]\n",
        "    Y2ZN=(((np.count_nonzero(Y2Z==0))/14088))\n",
        "    if (Y2ZN>0.3):\n",
        "        Y2DROP=(Y2.columns[i])\n",
        "        print (\"    Columns No  \", i, \"Name  \", Y2DROP, \"   Value =\", \"{:,.2f}\".format(Y2ZN))\n",
        "\n",
        "DROP_Y2=[4]\n",
        "DROP_Y2_N=list(Y2.columns[DROP_Y2])\n",
        "Y2=Y2.drop(columns=DROP_Y2_N, axis=1)"
      ]
    },
    {
      "cell_type": "code",
      "execution_count": null,
      "id": "federal-boards",
      "metadata": {
        "execution": {
          "iopub.execute_input": "2021-05-19T15:48:35.756853Z",
          "iopub.status.busy": "2021-05-19T15:48:35.755621Z",
          "iopub.status.idle": "2021-05-19T15:48:35.763930Z",
          "shell.execute_reply": "2021-05-19T15:48:35.763330Z"
        },
        "papermill": {
          "duration": 0.02347,
          "end_time": "2021-05-19T15:48:35.764087",
          "exception": false,
          "start_time": "2021-05-19T15:48:35.740617",
          "status": "completed"
        },
        "tags": [],
        "id": "federal-boards"
      },
      "outputs": [],
      "source": [
        "input_X=X.values[:,:]\n",
        "input_XC=X.columns[:]\n",
        "input_XX=pd.DataFrame(data=input_X, columns=input_XC)\n",
        "input_XXD=pd.DataFrame(data=input_X)\n",
        "\n",
        "output_Y=Y.values[:,:]\n",
        "output_YC=Y.columns[:]\n",
        "output_YY=pd.DataFrame(data=output_Y, columns=output_YC)\n"
      ]
    },
    {
      "cell_type": "code",
      "execution_count": null,
      "id": "measured-rebound",
      "metadata": {
        "execution": {
          "iopub.execute_input": "2021-05-19T15:48:35.800076Z",
          "iopub.status.busy": "2021-05-19T15:48:35.798438Z",
          "iopub.status.idle": "2021-05-19T15:49:07.227425Z",
          "shell.execute_reply": "2021-05-19T15:49:07.227963Z"
        },
        "papermill": {
          "duration": 31.455509,
          "end_time": "2021-05-19T15:49:07.228179",
          "exception": false,
          "start_time": "2021-05-19T15:48:35.772670",
          "status": "completed"
        },
        "tags": [],
        "id": "measured-rebound",
        "outputId": "4c25021e-a7cd-4157-e279-c98932112fd6"
      },
      "outputs": [
        {
          "name": "stdout",
          "output_type": "stream",
          "text": [
            "For the 1st Stage\n",
            "7.67\n",
            "20.62\n",
            "4.83\n",
            "8.32\n",
            "20.16\n",
            "42.05\n",
            "2.73\n",
            "58.60\n",
            "62.16\n"
          ]
        }
      ],
      "source": [
        "print(\"For the 1st Stage\")\n",
        "\n",
        "for i in range (len(output_YC)):\n",
        "    Yi=output_YY.values [:,i];\n",
        "    columns=list(input_XXD.columns)\n",
        "    pmax=1\n",
        "    while (len(columns)>0):\n",
        "        pvalue=[]\n",
        "        X_1=input_XXD[columns]\n",
        "        X_1=sm.add_constant(X_1)\n",
        "        model=sm.OLS(Yi, X_1).fit()\n",
        "        pvalue=pd.Series(model.pvalues.values[1:], index=columns)\n",
        "        pmax=max(pvalue)\n",
        "        X_with_pmax=pvalue.idxmax()\n",
        "        if (pmax>0.05):\n",
        "            columns.remove(X_with_pmax)\n",
        "        else:\n",
        "                break\n",
        "        selected_X=columns\n",
        "\n",
        "\n",
        "    X_selected=input_XX.values[:, selected_X]\n",
        "\n",
        "    X_train, X_test, Y_train, Y_test= train_test_split(X_selected, Yi, test_size=0.2)\n",
        "\n",
        "\n",
        "#----- Implementing SVM-POLY\n",
        "\n",
        "    svr_poly = make_pipeline(StandardScaler(), SVR(C=1.0, epsilon=0.2, kernel='poly', degree=3))\n",
        "    svr_poly = svr_poly.fit(X_train, Y_train)\n",
        "    svr_poly = abs(svr_poly.score(X_test, Y_test))\n",
        "    svr_poly = \"{:.2f}\".format(svr_poly * 100)\n",
        "\n",
        "    print(svr_poly)"
      ]
    },
    {
      "cell_type": "code",
      "execution_count": null,
      "id": "clinical-gravity",
      "metadata": {
        "execution": {
          "iopub.execute_input": "2021-05-19T15:49:07.254898Z",
          "iopub.status.busy": "2021-05-19T15:49:07.254166Z",
          "iopub.status.idle": "2021-05-19T15:50:26.096543Z",
          "shell.execute_reply": "2021-05-19T15:50:26.095390Z"
        },
        "papermill": {
          "duration": 78.857168,
          "end_time": "2021-05-19T15:50:26.096885",
          "exception": false,
          "start_time": "2021-05-19T15:49:07.239717",
          "status": "completed"
        },
        "tags": [],
        "id": "clinical-gravity",
        "outputId": "bf34df81-bb69-49a4-d6c7-9a0bb89ae647"
      },
      "outputs": [
        {
          "name": "stdout",
          "output_type": "stream",
          "text": [
            "For the 2nd Stage\n",
            "43.31\n",
            "51.99\n",
            "72.85\n",
            "39.40\n",
            "79.72\n",
            "33.78\n",
            "28.60\n",
            "50.61\n",
            "62.20\n",
            "69.16\n",
            "6.86\n",
            "74.39\n",
            "74.10\n",
            "57.85\n"
          ]
        }
      ],
      "source": [
        "print(\"For the 2nd Stage\")\n",
        "\n",
        "\n",
        "input_X2=X2.values[:,:]\n",
        "input_XC2=X2.columns[:]\n",
        "input_XX2=pd.DataFrame(data=input_X2, columns=input_XC2)\n",
        "input_XXD2=pd.DataFrame(data=input_X2)\n",
        "\n",
        "output_Y2=Y2.values[:,:]\n",
        "output_YC2=Y2.columns[:]\n",
        "output_YY2=pd.DataFrame(data=output_Y2, columns=output_YC2)\n",
        "\n",
        "\n",
        "for i in range (len(output_YC2)):\n",
        "    Yi2=output_YY2.values [:,i];\n",
        "    columns2=list(input_XXD2.columns)\n",
        "    pmax2=1\n",
        "    while (len(columns2)>0):\n",
        "        pvalue2=[]\n",
        "        X_12=input_XXD2[columns2]\n",
        "        X_12=sm.add_constant(X_12)\n",
        "        model=sm.OLS(Yi2, X_12).fit()\n",
        "        pvalue2=pd.Series(model.pvalues.values[1:], index=columns2)\n",
        "        pmax2=max(pvalue2)\n",
        "        X_with_pmax2=pvalue2.idxmax()\n",
        "        if (pmax2>0.05):\n",
        "            columns2.remove(X_with_pmax2)\n",
        "        else:\n",
        "                break\n",
        "        selected_X2=columns2\n",
        "\n",
        "\n",
        "    X_selected2=input_XX2.values[:, selected_X2]\n",
        "\n",
        "    X_train2, X_test2, Y_train2, Y_test2= train_test_split(X_selected2, Yi2, test_size=0.2)\n",
        "\n",
        "\n",
        "#----- Implementing SVM-POLY for the second stage\n",
        "\n",
        "    svr_poly = make_pipeline(StandardScaler(), SVR(C=1.0, epsilon=0.2, kernel='poly', degree=3))\n",
        "    svr_poly = svr_poly.fit(X_train2, Y_train2)\n",
        "    svr_poly = abs(svr_poly.score(X_test2, Y_test2))\n",
        "    svr_poly = \"{:.2f}\".format(svr_poly * 100)\n",
        "\n",
        "    print(svr_poly)"
      ]
    },
    {
      "cell_type": "code",
      "execution_count": null,
      "id": "static-shelf",
      "metadata": {
        "papermill": {
          "duration": 0.016184,
          "end_time": "2021-05-19T15:50:26.131292",
          "exception": false,
          "start_time": "2021-05-19T15:50:26.115108",
          "status": "completed"
        },
        "tags": [],
        "id": "static-shelf"
      },
      "outputs": [],
      "source": []
    }
  ],
  "metadata": {
    "kernelspec": {
      "display_name": "Python 3",
      "language": "python",
      "name": "python3"
    },
    "language_info": {
      "codemirror_mode": {
        "name": "ipython",
        "version": 3
      },
      "file_extension": ".py",
      "mimetype": "text/x-python",
      "name": "python",
      "nbconvert_exporter": "python",
      "pygments_lexer": "ipython3",
      "version": "3.7.10"
    },
    "papermill": {
      "default_parameters": {},
      "duration": 121.74865,
      "end_time": "2021-05-19T15:50:26.960209",
      "environment_variables": {},
      "exception": null,
      "input_path": "__notebook__.ipynb",
      "output_path": "__notebook__.ipynb",
      "parameters": {},
      "start_time": "2021-05-19T15:48:25.211559",
      "version": "2.3.3"
    },
    "colab": {
      "provenance": []
    }
  },
  "nbformat": 4,
  "nbformat_minor": 5
}